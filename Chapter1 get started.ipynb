{
 "cells": [
  {
   "cell_type": "markdown",
   "metadata": {},
   "source": [
    "# Forecasting: Principle and Pactice Note and Python Implementation\n",
    "\n",
    "## Chapter 1 Get Started"
   ]
  },
  {
   "cell_type": "markdown",
   "metadata": {},
   "source": [
    "## What can be forecast?\n",
    "\n",
    "Whatever the circumstances or time horizons involved, forecasting is an important aid to effective and efficient planning. \n",
    "\n",
    "The predictability of an event or a quantity depends on several factors including:\n",
    "- how well we understand the factors that contribute to it;\n",
    "- how much data are available;\n",
    "- whether the forecasts can affect the thing we are trying to forecast. \n",
    "\n",
    "Note: often in forecasting, a key step in knowing when something can be foreast accurately, and when forecast will be no better than tossing a coin. Good forecasts capture the genunie patterns and relationships which exist in the historical data, but do not replicate past events that will not occur again. "
   ]
  },
  {
   "cell_type": "markdown",
   "metadata": {},
   "source": [
    "## Terminology\n",
    "\n",
    "#### Forecasting \n",
    "is about predicting the future as accurate as possible, giving all of the information available, including historical data and knowledge of any future events that might impact the forecast. \n",
    "\n",
    "#### Goals\n",
    "are what you would like to have happen. \n",
    "\n",
    "#### Planning \n",
    "is a response to forecasts and goals. Planning involves determine the appropriate actions that are required to make your forecast match your goals.  "
   ]
  },
  {
   "cell_type": "markdown",
   "metadata": {},
   "source": [
    "## Determining what to forecast\n",
    "\n",
    "In the early stage of a forecasting project\n",
    "- decisions need to be made about what should be forecast;\n",
    "- consider the forecasting horizon;\n",
    "- how frequently are forecasts are requried;\n",
    "- talk to the people who will use the forecasts to ensure that you understand their needs, and how the forecasts are to be used."
   ]
  },
  {
   "cell_type": "markdown",
   "metadata": {},
   "source": [
    "## Predictor variables and time series forecasting\n",
    "\n",
    "Predictor variables are often useful in time series forecasting. For example, for the hourly electricity demand (ED). A model with predictor variable might be of the form \n",
    "\n",
    "$ED = f(current\\ temperature, strength\\ of\\ economy, population ..., error)$\n",
    "\n",
    "We call this an explanatory model because it helps explain what causes the variation in electricity demand. \n",
    "An explanatory model is useful because it incorporates information about other variables, rather than only historical values of the variables to be forecast. \n",
    "\n",
    "However, there are several reasons a forecaster might select a time series model rather than explanatory or mixed model. \n",
    "- The system may not be understood, and even if it was understood it may be extremely difficult to measure the relationship that are assumed to govern its behavior. \n",
    "- It is necessary to know or forecast the future values of the various predictors in order to be able to forecast the variable of interest, and this might be difficult. \n",
    "- The main concern may be only to predict what will happen, not to know why it happens.\n",
    "- The time series model may give more accurate forecast than an explanatory or mixed model. "
   ]
  },
  {
   "cell_type": "markdown",
   "metadata": {},
   "source": [
    "## The basic steps in a forecasting task \n",
    "### Problem definition\n",
    "Defining the problem carefully requires an understanding of the way the forecasts will be used, who requires the forecasts, and the how the forecasting function fits within the organisation requiring the forecasts. \n",
    "\n",
    "### Gathering information \n",
    "- statistical data \n",
    "- the accumulated expertise of the people who collect the data and use the forecasts. \n",
    "\n",
    "### Exploratory analysis\n",
    "Always start by graphing the data. Are there consistent patterns? Is there a significant trend? Is seasonality important? Is there evidence of the presence of business cycles? Are there any outliers in the data that need to be explained by those with expert knowledge? How strong are the relationship among the variables for analysis. \n",
    "\n",
    "### Choosing and fitting models\n",
    "The best model to use depends on the availability of historical data, the strength of relationship between the forecast variables and any explanatory variables, and they way in which the forecasts are to be used. \n",
    "\n",
    "### Using and evaluating a forecasting model\n",
    "\n"
   ]
  }
 ],
 "metadata": {
  "kernelspec": {
   "display_name": "Python 3",
   "language": "python",
   "name": "python3"
  },
  "language_info": {
   "codemirror_mode": {
    "name": "ipython",
    "version": 3
   },
   "file_extension": ".py",
   "mimetype": "text/x-python",
   "name": "python",
   "nbconvert_exporter": "python",
   "pygments_lexer": "ipython3",
   "version": "3.5.2"
  }
 },
 "nbformat": 4,
 "nbformat_minor": 2
}
