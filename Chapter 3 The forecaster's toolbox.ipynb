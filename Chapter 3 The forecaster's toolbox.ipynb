{
 "cells": [
  {
   "cell_type": "markdown",
   "metadata": {},
   "source": [
    "# Some simple forecasting methods\n",
    "\n",
    "## Average method\n",
    "The forecast of all future values are equal to the average of the historical data. If we let the historical data be denoted by $y_1, ...., y_T$, then we can write the forecast as \n",
    "\n",
    "$\\hat{y}_{T+h|T}=\\overline{y}=(y_1+...+y_T)/T$\n",
    "\n",
    "## Naive method\n",
    "For naive forecasts, we simply set all forecasts to be the value of the last observation. That is, \n",
    "\n",
    "$\\hat{y}_{T+h|T}=y_T$\n",
    "\n",
    "This method works remarkably well for many economic and finanical time series. Because a naive forecast is optimal when data follows a random walk. \n",
    "\n",
    "## Seasonal naive method\n",
    "We set each forecast to be equal to the last observed value from the same season of the year. Formally, the forecast for time $T+h$ is written as \n",
    "$\\hat{y}_{T+h|T}=y_{T+h-m(k+1)}$\n",
    "where $m =$ the seasonal period, and $k$ is the integer part of $(h-1)/m$ the number of complete year in the forecast period prior to time $T+h$.\n",
    "\n",
    "## Drift method\n",
    "A variation on the naive method is to allow the forecasts to increase or decrease over time, where the amount of change over time (called the drift) is set to be the averge change seen in the historical data. \n",
    "\n",
    "$\\hat{y}_{T+h|T} = y_T + h(\\frac{y_T-y_1}{T-1})$"
   ]
  },
  {
   "cell_type": "markdown",
   "metadata": {},
   "source": [
    "# Transformations and adjustments\n",
    "The purpose of these adjustments and transformations is to simplify the patterns in the historical data by removing known sources of variation or by making the pattern more consistent across the whole data set. Simpler patterns usually lead to more accurate forecasts. \n",
    "\n",
    "## Calendar adjustments\n",
    "Some of the variation seen in seasonal data may be due to simple calendar effects. In such cases, it is usually much easier to remove the variation before fitting a forecasting model. \n",
    "\n",
    "For example, if you are studying the monthly milk production on a farm, there will be variation between the months simply because of the different number of days in each month. (get a dailay average is much better.)\n",
    "\n",
    "## Population adjustments\n",
    "Any data that are affected by population change can be adjusted to give per-capita data. That is, consider the data per person (or per thousand people, or per million people) rather than the total. \n",
    "\n",
    "## Inflation adjustments \n",
    "Data which are affected by the value of money are best adjusted before modelling. Financial time series are ususally adjusted so that all values are stated in dollar values from a particular year. \n"
   ]
  },
  {
   "cell_type": "markdown",
   "metadata": {},
   "source": [
    "# Mathematical transformations \n",
    "\n",
    "## Logarithmic transformation \n",
    "If we denote the original observation as $y_1,..., y_T$ and the transformation observations as $w_1, ..., w_T$, then \n",
    "$w_t = log(y_t)$\n",
    "\n",
    "Logarithm are useful because they are interpretable: changes in a log value are relative change on the original scale. Another useful feature of log transformation is that they constrain the forecasts to stay positivfe on the original scale. \n",
    "\n",
    "## Box-Cox transformation\n",
    "which depends on the parameter $\\lambda$ and are defined as follows:\n",
    "\\begin{equation}w_t=\\begin{cases}\n",
    "    log(y_t)  & if\\  \\lambda = 0.\\\\\n",
    "    (y_t^\\lambda -1)/\\lambda, & \\text{otherwise}.\n",
    "  \\end{cases}\\end{equation}\n",
    "\n",
    "A good value of $\\lambda$ is one which makes the size of the seasonal variation about the same across the whole series, as that makes the forecasting model simpler. \n",
    "\n",
    "Having chosen a transformation, we need to forecast the transformed data. Then, we need to reverse the transformation to obtain forecasts on the original scale. \n",
    "\n",
    "\\begin{equation}y_t=\\begin{cases}\n",
    "    \\exp{w_t}  & if\\  \\lambda = 0.\\\\\n",
    "    (\\lambda w_t+1)^{1/\\lambda}, & \\text{otherwise}.\n",
    "  \\end{cases}\\end{equation}\n"
   ]
  },
  {
   "cell_type": "code",
   "execution_count": null,
   "metadata": {},
   "outputs": [],
   "source": []
  }
 ],
 "metadata": {
  "kernelspec": {
   "display_name": "Python 3",
   "language": "python",
   "name": "python3"
  },
  "language_info": {
   "codemirror_mode": {
    "name": "ipython",
    "version": 3
   },
   "file_extension": ".py",
   "mimetype": "text/x-python",
   "name": "python",
   "nbconvert_exporter": "python",
   "pygments_lexer": "ipython3",
   "version": "3.5.2"
  }
 },
 "nbformat": 4,
 "nbformat_minor": 2
}
