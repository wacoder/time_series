{
 "cells": [
  {
   "cell_type": "markdown",
   "metadata": {},
   "source": [
    "# Some simple forecasting methods\n",
    "\n",
    "## Average method\n",
    "The forecast of all future values are equal to the average of the historical data. If we let the historical data be denoted by $y_1, ...., y_T$, then we can write the forecast as \n",
    "\n",
    "$\\hat{y}_{T+h|T}=\\overline{y}=(y_1+...+y_T)/T$\n",
    "\n",
    "## Naive method\n",
    "For naive forecasts, we simply set all forecasts to be the value of the last observation. That is, \n",
    "\n",
    "$\\hat{y}_{T+h|T}=y_T$\n",
    "\n",
    "This method works remarkably well for many economic and finanical time series. Because a naive forecast is optimal when data follows a random walk. \n",
    "\n",
    "## Seasonal naive method\n",
    "We set each forecast to be equal to the last observed value from the same season of the year. Formally, the forecast for time $T+h$ is written as \n",
    "$\\hat{y}_{T+h|T}=y_{T+h-m(k+1)}$\n",
    "where $m =$ the seasonal period, and $k$ is the integer part of $(h-1)/m$ the number of complete year in the forecast period prior to time $T+h$.\n",
    "\n",
    "## Drift method\n",
    "A variation on the naive method is to allow the forecasts to increase or decrease over time, where the amount of change over time (called the drift) is set to be the averge change seen in the historical data. \n",
    "\n",
    "$\\hat{y}_{T+h|T} = y_T + h(\\frac{y_T-y_1}{T-1})$"
   ]
  },
  {
   "cell_type": "markdown",
   "metadata": {},
   "source": [
    "# Transformations and adjustments\n",
    "The purpose of these adjustments and transformations is to simplify the patterns in the historical data by removing known sources of variation or by making the pattern more consistent across the whole data set. Simpler patterns usually lead to more accurate forecasts. \n",
    "\n",
    "## Calendar adjustments\n",
    "Some of the variation seen in seasonal data may be due to simple calendar effects. In such cases, it is usually much easier to remove the variation before fitting a forecasting model. \n",
    "\n",
    "For example, if you are studying the monthly milk production on a farm, there will be variation between the months simply because of the different number of days in each month. (get a dailay average is much better.)\n",
    "\n",
    "## Population adjustments\n",
    "Any data that are affected by population change can be adjusted to give per-capita data. That is, consider the data per person (or per thousand people, or per million people) rather than the total. \n",
    "\n",
    "## Inflation adjustments \n",
    "Data which are affected by the value of money are best adjusted before modelling. Financial time series are ususally adjusted so that all values are stated in dollar values from a particular year. \n"
   ]
  },
  {
   "cell_type": "markdown",
   "metadata": {},
   "source": [
    "# Mathematical transformations \n",
    "\n",
    "## Logarithmic transformation \n",
    "If we denote the original observation as $y_1,..., y_T$ and the transformation observations as $w_1, ..., w_T$, then \n",
    "$w_t = log(y_t)$\n",
    "\n",
    "Logarithm are useful because they are interpretable: changes in a log value are relative change on the original scale. Another useful feature of log transformation is that they constrain the forecasts to stay positivfe on the original scale. \n",
    "\n",
    "## Box-Cox transformation\n",
    "which depends on the parameter $\\lambda$ and are defined as follows:\n",
    "\\begin{equation}w_t=\\begin{cases}\n",
    "    log(y_t)  & if\\  \\lambda = 0.\\\\\n",
    "    (y_t^\\lambda -1)/\\lambda, & \\text{otherwise}.\n",
    "  \\end{cases}\\end{equation}\n",
    "\n",
    "A good value of $\\lambda$ is one which makes the size of the seasonal variation about the same across the whole series, as that makes the forecasting model simpler. \n",
    "\n",
    "Having chosen a transformation, we need to forecast the transformed data. Then, we need to reverse the transformation to obtain forecasts on the original scale. \n",
    "\n",
    "\\begin{equation}y_t=\\begin{cases}\n",
    "    \\exp{w_t}  & if\\  \\lambda = 0.\\\\\n",
    "    (\\lambda w_t+1)^{1/\\lambda}, & \\text{otherwise}.\n",
    "  \\end{cases}\\end{equation}\n"
   ]
  },
  {
   "cell_type": "markdown",
   "metadata": {},
   "source": [
    "# Bias adjustments"
   ]
  },
  {
   "cell_type": "markdown",
   "metadata": {},
   "source": [
    "# Residual Diagnostic"
   ]
  },
  {
   "cell_type": "markdown",
   "metadata": {},
   "source": [
    "The \"residuals\" in a time series model are what is left over after fitting a model. For many (but not all models), the residuals are equal to the difference between the observations and the corresponding fitted values:\n",
    "$$\n",
    "    e_t = y_t - \\hat{y_t}\n",
    "$$"
   ]
  },
  {
   "cell_type": "markdown",
   "metadata": {},
   "source": [
    "A good forecast model will yeild residuals with following properties:\n",
    "- The residuals are uncorrelated. If there are correlations between residuals, then there is information left in the residual which should be used in computing forecast. \n",
    "- The residual should have zero mean. Otherwise, the forecast is biased.\n",
    "- The residual has constant variance. \n",
    "- The residual are normally distributed. \n",
    "\n",
    "Checking these properties is important to see whether a model is using all of available information, but it is not a good method to select a forecast model. "
   ]
  },
  {
   "cell_type": "markdown",
   "metadata": {},
   "source": [
    "We test whether the first h autocorrelations are significantly different from what we expected from a white noise signal. \n",
    "\n",
    "## Box-Pierce test\n",
    "$$\n",
    "Q = T\\sum_{k=1}^{h}{r_k}^2\n",
    "$$\n",
    "\n",
    "where h is the maximum lag considered, and T is the number of observation. We suggest h = 10 for non-seasonal, and h = 2*m for seasonal, where m is the peroid of seasonality. If these are larger than T/5, set h = T/5"
   ]
  },
  {
   "cell_type": "markdown",
   "metadata": {},
   "source": [
    "## Ljung-Box test\n",
    "$$\n",
    "Q^* = T(T+2)\\sum_{k=1}^h(T-k)^{-1}r_k^2\n",
    "$$\n",
    "\n",
    "if autocorrelation did come from a white noise series, that both $Q$ and $Q^*$ would have a $\\chi^2$ distribution with (h-K) degrees of freedom, where k is the number of parameters in the model."
   ]
  },
  {
   "cell_type": "markdown",
   "metadata": {},
   "source": [
    "# Prediction interval"
   ]
  },
  {
   "cell_type": "markdown",
   "metadata": {},
   "source": [
    "### why calculate a prediction interval\n",
    "In predictive modelling, a forecast or a prediction is a single outcome value given some input variables. \n",
    "For example:\n",
    "```python\n",
    "yhat = model.predict(x)\n",
    "```\n",
    "where yhat is the estimated outcome or prediction made by the trained model for the given input data X.\n",
    "This is point estimation. By defintion, it is an estimate or an approximation with uncertainty. \n",
    "\n",
    "The uncertainty comes from the errors of the model itself, and noise in input data. The model is an approximation of the relationship between the input varialbes and the output variables. "
   ]
  },
  {
   "cell_type": "markdown",
   "metadata": {},
   "source": [
    "A prediction interval is a quantification of the uncertainty on a prediction. It provides a probabilistic lower and upper bound on the estimate of an outcome variable. \n",
    "\n",
    "An example of the presentation of prediction interval is as follows:\n",
    "\n",
    ">    Given a prediction of 'y' given 'x', there is 95% likelihood that the range of 'a' to 'b' covers the true outcome. "
   ]
  },
  {
   "cell_type": "markdown",
   "metadata": {},
   "source": [
    "### Worked example"
   ]
  },
  {
   "cell_type": "code",
   "execution_count": 2,
   "metadata": {},
   "outputs": [],
   "source": [
    "import numpy as np\n",
    "import matplotlib.pyplot as plt\n",
    "%matplotlib inline"
   ]
  },
  {
   "cell_type": "code",
   "execution_count": 6,
   "metadata": {},
   "outputs": [
    {
     "name": "stdout",
     "output_type": "stream",
     "text": [
      "x: mean=100.776, std=19.620\n",
      "y: mean=151.050, std=22.358\n"
     ]
    }
   ],
   "source": [
    "np.random.seed(1)\n",
    "x = 20*np.random.randn(1000)+100\n",
    "y = x + (10*np.random.randn(1000)+50)\n",
    "print(\"x: mean={:.3f}, std={:.3f}\".format(np.mean(x), np.std(x)))\n",
    "print(\"y: mean={:.3f}, std={:.3f}\".format(np.mean(y), np.std(y)))"
   ]
  },
  {
   "cell_type": "code",
   "execution_count": 8,
   "metadata": {},
   "outputs": [
    {
     "data": {
      "image/png": "[encoded data removed]",
      "text/plain": [
       "<Figure size 432x288 with 1 Axes>"
      ]
     },
     "metadata": {
      "needs_background": "light"
     },
     "output_type": "display_data"
    }
   ],
   "source": [
    "plt.scatter(x, y)\n",
    "plt.show()"
   ]
  },
  {
   "cell_type": "code",
   "execution_count": 9,
   "metadata": {},
   "outputs": [],
   "source": [
    "# fit a linear regression model \n",
    "from sklearn.linear_model import LinearRegression"
   ]
  },
  {
   "cell_type": "code",
   "execution_count": 19,
   "metadata": {},
   "outputs": [
    {
     "data": {
      "text/plain": [
       "LinearRegression(copy_X=True, fit_intercept=True, n_jobs=1, normalize=False)"
      ]
     },
     "execution_count": 19,
     "metadata": {},
     "output_type": "execute_result"
    }
   ],
   "source": [
    "lr = LinearRegression()\n",
    "lr.fit(np.reshape(x, (len(x),-1)), np.reshape(y, (len(y),-1)))"
   ]
  },
  {
   "cell_type": "code",
   "execution_count": 33,
   "metadata": {},
   "outputs": [
    {
     "data": {
      "text/plain": [
       "1.0114747108839153"
      ]
     },
     "execution_count": 33,
     "metadata": {},
     "output_type": "execute_result"
    }
   ],
   "source": [
    "lr.coef_[0][0]"
   ]
  },
  {
   "cell_type": "code",
   "execution_count": 38,
   "metadata": {},
   "outputs": [
    {
     "data": {
      "text/plain": [
       "[<matplotlib.lines.Line2D at 0x7f4068edb1d0>]"
      ]
     },
     "execution_count": 38,
     "metadata": {},
     "output_type": "execute_result"
    },
    {
     "data": {
      "image/png": "[encoded data removed]",
      "text/plain": [
       "<Figure size 432x288 with 1 Axes>"
      ]
     },
     "metadata": {
      "needs_background": "light"
     },
     "output_type": "display_data"
    }
   ],
   "source": [
    "plt.scatter(x,y)\n",
    "plt.plot(np.arange(40,180), lr.intercept_[0]+lr.coef_[0][0]*np.arange(40,180),'r')"
   ]
  },
  {
   "cell_type": "code",
   "execution_count": 40,
   "metadata": {},
   "outputs": [],
   "source": [
    "yhat = lr.predict(np.reshape(x, (len(x),-1)))"
   ]
  },
  {
   "cell_type": "code",
   "execution_count": 43,
   "metadata": {},
   "outputs": [],
   "source": [
    "y = np.reshape(y, (len(y),-1))"
   ]
  },
  {
   "cell_type": "code",
   "execution_count": 49,
   "metadata": {},
   "outputs": [],
   "source": [
    "sum_errs = np.sum((y-yhat)**2)"
   ]
  },
  {
   "cell_type": "code",
   "execution_count": 52,
   "metadata": {},
   "outputs": [],
   "source": [
    "stdev = np.sqrt(1.0/(len(x)-2)*sum_errs)"
   ]
  },
  {
   "cell_type": "code",
   "execution_count": 54,
   "metadata": {},
   "outputs": [
    {
     "data": {
      "text/plain": [
       "20.204124909477418"
      ]
     },
     "execution_count": 54,
     "metadata": {},
     "output_type": "execute_result"
    }
   ],
   "source": [
    "# the 95% prediction interval is 1.96\n",
    "1.96*stdev"
   ]
  },
  {
   "cell_type": "markdown",
   "metadata": {},
   "source": [
    "### Use bootstrap to compute the confidence interval"
   ]
  },
  {
   "cell_type": "code",
   "execution_count": 55,
   "metadata": {},
   "outputs": [],
   "source": [
    "import pandas as pd"
   ]
  },
  {
   "cell_type": "code",
   "execution_count": 71,
   "metadata": {},
   "outputs": [],
   "source": [
    "df = pd.read_csv('./data/pima-indians-diabetes.data.csv', header=None)\n",
    "values = df.values"
   ]
  },
  {
   "cell_type": "code",
   "execution_count": 64,
   "metadata": {},
   "outputs": [],
   "source": [
    "n_iteration = 1000\n",
    "n_size = int(0.5*len(df.values))"
   ]
  },
  {
   "cell_type": "code",
   "execution_count": 66,
   "metadata": {},
   "outputs": [],
   "source": [
    "from sklearn.tree import DecisionTreeClassifier\n",
    "from sklearn.utils import resample"
   ]
  },
  {
   "cell_type": "code",
   "execution_count": 80,
   "metadata": {},
   "outputs": [],
   "source": [
    "from sklearn.metrics import accuracy_score"
   ]
  },
  {
   "cell_type": "code",
   "execution_count": 81,
   "metadata": {
    "scrolled": true
   },
   "outputs": [],
   "source": [
    "stats = list()\n",
    "for i in range(n_iteration):\n",
    "    train = resample(values,n_samples =n_size)\n",
    "    test = np.array([x for x in values if x.tolist() not in train.tolist()])\n",
    "    model = DecisionTreeClassifier()\n",
    "    model.fit(train[:,:-1], train[:, -1])\n",
    "    predictions = model.predict(test[:,:-1])\n",
    "    stats.append(accuracy_score(test[:,-1], predictions))"
   ]
  },
  {
   "cell_type": "code",
   "execution_count": 84,
   "metadata": {},
   "outputs": [
    {
     "data": {
      "text/plain": [
       "0.6439195805155705"
      ]
     },
     "execution_count": 84,
     "metadata": {},
     "output_type": "execute_result"
    }
   ],
   "source": [
    "np.percentile(stats,2.5)"
   ]
  },
  {
   "cell_type": "code",
   "execution_count": 85,
   "metadata": {},
   "outputs": [
    {
     "data": {
      "text/plain": [
       "0.7317596566523605"
      ]
     },
     "execution_count": 85,
     "metadata": {},
     "output_type": "execute_result"
    }
   ],
   "source": [
    "np.percentile(stats, 97.5)"
   ]
  },
  {
   "cell_type": "code",
   "execution_count": null,
   "metadata": {},
   "outputs": [],
   "source": []
  }
 ],
 "metadata": {
  "kernelspec": {
   "display_name": "Python 3",
   "language": "python",
   "name": "python3"
  },
  "language_info": {
   "codemirror_mode": {
    "name": "ipython",
    "version": 3
   },
   "file_extension": ".py",
   "mimetype": "text/x-python",
   "name": "python",
   "nbconvert_exporter": "python",
   "pygments_lexer": "ipython3",
   "version": "3.5.2"
  }
 },
 "nbformat": 4,
 "nbformat_minor": 2
}
