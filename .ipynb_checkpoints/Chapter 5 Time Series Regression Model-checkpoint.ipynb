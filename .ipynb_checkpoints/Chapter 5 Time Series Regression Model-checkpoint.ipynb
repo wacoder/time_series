{
 "cells": [
  {
   "cell_type": "markdown",
   "metadata": {},
   "source": [
    "In this chapter, we discuss regression model. The basic concept is that we forecast the time series of interest $y$ assuming that it has a linear relationship with other time series $x$"
   ]
  },
  {
   "cell_type": "markdown",
   "metadata": {},
   "source": [
    "## 5.1 The linear model\n",
    "### Simple linear regression\n",
    "In the simplest case, the regression model allows for a linear relationship between the forecast variable $y$ and a single predictor varilable $x$\n",
    "\\begin{equation}\n",
    "y_t = \\beta_0 + \\beta_1 x_t +\\epsilon_t\n",
    "\\end{equation}\n",
    "The coefficients $\\beta_0$ and $\\beta_1$ denote the intercept and slope of the line respectively. \n",
    "\n",
    "### Multiple linear regression\n",
    "When there are two or more predictor variables, the model is called multiple linear regression model. The general form of a multiple regression model is \n",
    "\\begin{equation}\n",
    "y_t = \\beta_0 + \\beta_1 x_{1,t} + \\beta_2 x_{2,t} +\\dots+ \\beta_k x_{k,t} + \\epsilon_t\n",
    "\\end{equation}\n",
    "where $y_t$ is the variable to forecast and $x_{1,t}, x_{2,t},...,x_{k,t}$ are the $k$ predictors variables. Each of the predictor variables must be numerical. The coefficients $\\beta_1,...,\\beta_k$ measures the effect of each predictors after taking into account the effect of all the other predictors in the model. Thus the coefficients are the marginal effects of the predictor variables. \n",
    "\n",
    "### Asumptions\n",
    "First, we assume that the model is a reasonable approximation to the reality, that is, the relationship between the forecast variable and the predictor variables satisfy this linear equation. \n",
    "\n",
    "Second, we make the following assumption about the error $\\epsilon_1,..., \\epsilon_T$\n",
    "\n",
    "- They have mean zero; otherwise the forecasts will be systematically biased.\n",
    "- They are not autocorrelated; otherwise, the forecasts will not be suffciient, as there is more information in the data could be exploited.\n",
    "- They are unrelated to the predictor variables; otherwise, the forecasts will not be sufficient, there is more information that should be included in the systematic part of the model.\n",
    "It is also useful to have the errors being normally distributed with a constant variance $\\delta^2$ in order to produce the prediction interval. "
   ]
  },
  {
   "cell_type": "markdown",
   "metadata": {},
   "source": [
    "## 5.2 Least squares estimation\n",
    "In practice, we have a collection of observations but we do not know the values of the coefficients $\\beta_1,...,\\beta_k$. These need to be estimated from the data. \n",
    "\n",
    "The least squares principle provides a way of choosing the coefficients effectively by minimizing the sum of the squared errors. \n",
    "\\begin{equation}\n",
    "\\sum_{t=1}^N\\epsilon_t = \\sum_{t=1}^N(y_t - \\beta_0+\\beta_1 x_{1,t}+...+\\beta_k x_{k,t})^2\n",
    "\\end{equation}\n",
    "\n",
    "This is called least squares estimation because it gives the least value for the sum of squared errors.\n",
    "\n",
    "### Fitted values\n",
    "Prediction of $y$ can be obtained by using the estimated coefficients in the regression equation and setting the error term to zero. \n",
    "\\begin{equation}\n",
    "\\hat{y}_t =\\hat{\\beta}_0 + \\hat{\\beta}_1 x_{1,t} + ... + \\hat{\\beta}_k x_{k,t}\n",
    "\\end{equation}\n",
    "Plugging in the value of $x_{1,t},...,x_{k,t}$ for $t=1,...,T$ returns prediction of $y_t$ within the training samples, referred to as fitted values."
   ]
  },
  {
   "cell_type": "markdown",
   "metadata": {},
   "source": [
    "### Evaluating the regression model"
   ]
  },
  {
   "cell_type": "code",
   "execution_count": null,
   "metadata": {},
   "outputs": [],
   "source": []
  }
 ],
 "metadata": {
  "kernelspec": {
   "display_name": "Python 3",
   "language": "python",
   "name": "python3"
  },
  "language_info": {
   "codemirror_mode": {
    "name": "ipython",
    "version": 3
   },
   "file_extension": ".py",
   "mimetype": "text/x-python",
   "name": "python",
   "nbconvert_exporter": "python",
   "pygments_lexer": "ipython3",
   "version": "3.5.2"
  }
 },
 "nbformat": 4,
 "nbformat_minor": 2
}
