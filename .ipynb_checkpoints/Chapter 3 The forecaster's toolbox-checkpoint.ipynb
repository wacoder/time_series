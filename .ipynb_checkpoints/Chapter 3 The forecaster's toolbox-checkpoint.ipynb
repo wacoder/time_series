{
 "cells": [
  {
   "cell_type": "markdown",
   "metadata": {},
   "source": [
    "# Some simple forecasting methods\n",
    "\n",
    "## Average method\n",
    "The forecast of all future values are equal to the average of the historical data. If we let the historical data be denoted by $y_1, ...., y_T$, then we can write the forecast as \n",
    "\n",
    "$\\hat{y}_{T+h|T}=\\overline{y}=(y_1+...+y_T)/T$\n",
    "\n",
    "## Naive method\n",
    "For naive forecasts, we simply set all forecasts to be the value of the last observation. That is, \n",
    "\n",
    "$\\hat{y}_{T+h|T}=y_T$\n",
    "\n",
    "This method works remarkably well for many economic and finanical time series. Because a naive forecast is optimal when data follows a random walk. \n",
    "\n",
    "## Seasonal naive method\n",
    "We set each forecast to be equal to the last observed value from the same season of the year. Formally, the forecast for time $T+h$ is written as \n",
    "$\\hat{y}_{T+h|T}=y_{T+h-m(k+1)}$\n",
    "where $m =$ the seasonal period, and $k$ is the integer part of $(h-1)/m$ the number of complete year in the forecast period prior to time $T+h$.\n",
    "\n",
    "## Drift method\n",
    "A variation on the naive method is to allow the forecasts to increase or decrease over time, where the amount of change over time (called the drift) is set to be the averge change seen in the historical data. \n",
    "\n",
    "$\\hat{y}_{T+h|T} = y_T + h(\\frac{y_T-y_1}{T-1})$"
   ]
  },
  {
   "cell_type": "markdown",
   "metadata": {},
   "source": [
    "# Transformations and adjustments\n"
   ]
  }
 ],
 "metadata": {
  "kernelspec": {
   "display_name": "Python 3",
   "language": "python",
   "name": "python3"
  },
  "language_info": {
   "codemirror_mode": {
    "name": "ipython",
    "version": 3
   },
   "file_extension": ".py",
   "mimetype": "text/x-python",
   "name": "python",
   "nbconvert_exporter": "python",
   "pygments_lexer": "ipython3",
   "version": "3.5.2"
  }
 },
 "nbformat": 4,
 "nbformat_minor": 2
}
